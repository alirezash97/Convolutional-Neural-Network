{
  "nbformat": 4,
  "nbformat_minor": 0,
  "metadata": {
    "colab": {
      "name": "Cnn.ipynb",
      "provenance": [],
      "authorship_tag": "ABX9TyMoIBy8+aBWJel/RM04uSSo",
      "include_colab_link": true
    },
    "kernelspec": {
      "name": "python3",
      "display_name": "Python 3"
    }
  },
  "cells": [
    {
      "cell_type": "markdown",
      "metadata": {
        "id": "view-in-github",
        "colab_type": "text"
      },
      "source": [
        "<a href=\"https://colab.research.google.com/github/alirezash97/Convolutional-Neural-Network/blob/master/Scratch.ipynb\" target=\"_parent\"><img src=\"https://colab.research.google.com/assets/colab-badge.svg\" alt=\"Open In Colab\"/></a>"
      ]
    },
    {
      "cell_type": "code",
      "metadata": {
        "id": "ATNmHvEzp3aA",
        "colab_type": "code",
        "colab": {}
      },
      "source": [
        "def relu(x):\n",
        "  return max(0, x)"
      ],
      "execution_count": 0,
      "outputs": []
    },
    {
      "cell_type": "code",
      "metadata": {
        "id": "bS3nb-Xyp9sZ",
        "colab_type": "code",
        "colab": {}
      },
      "source": [
        "def convolution(image, Cnn_filter):\n",
        "  x = Cnn_filter.shape[0]\n",
        "  y = Cnn_filter.shape[1]\n",
        "  out = np.zeros(((int(image.shape[0] - x + 1)), (int(image.shape[1] - y + 1))))\n",
        "  for i in range(out.shape[0]):\n",
        "    for j in range(out.shape[1]):\n",
        "      temp = np.sum(image[i:i+x, j:j+y]*Cnn_filter)\n",
        "      out[i][j] = relu(temp) \n",
        "\n",
        "\n",
        "  return out"
      ],
      "execution_count": 0,
      "outputs": []
    },
    {
      "cell_type": "code",
      "metadata": {
        "id": "HeNIajM_p_wG",
        "colab_type": "code",
        "colab": {}
      },
      "source": [
        "def pooling(filtered, window):\n",
        "  x = window[0]\n",
        "  y = window[1]\n",
        "  out = np.zeros((int(filtered.shape[0] / x), int(filtered.shape[1] / y)))\n",
        "  for i in range(out.shape[0]):\n",
        "    for j in range(out.shape[1]):\n",
        "      temp = np.array(filtered[i*x:(i+1)*x, j*x:(j+1)*x])\n",
        "      out[i][j] = np.max(temp)\n",
        "  \n",
        "  return out\n"
      ],
      "execution_count": 0,
      "outputs": []
    },
    {
      "cell_type": "code",
      "metadata": {
        "id": "T_fF5jd2qBza",
        "colab_type": "code",
        "colab": {}
      },
      "source": [
        "def convolution_layer(image, number_of_outputs, filter_shape, maxpool_window):\n",
        "  \n",
        "\n",
        "  weights = np.random.randint(low = -7, high = 7, size=(number_of_outputs, filter_shape[0], filter_shape[1], 3 ))\n",
        "  p_input = image.shape[0]\n",
        "  p_output = int((image.shape[0] - (filter_shape[0] - 1)) / maxpool_window[0]) \n",
        "  output = np.zeros((p_output, p_output, 3, number_of_outputs))\n",
        "  \n",
        "  for i in tqdm(range(number_of_outputs)):\n",
        "    filter_1 = weights[i, :, :, 0]\n",
        "    filter_2 = weights[i, :, :, 1]\n",
        "    filter_3 = weights[i, :, :, 2]\n",
        "\n",
        "    b = image[:p_input, :p_input, :1]\n",
        "    c = image[:p_input, :p_input, 1:2]\n",
        "    d = image[:p_input, :p_input, 2:3]\n",
        "\n",
        "    out1 = convolution(b, filter_1)\n",
        "    out2 = convolution(c, filter_2)\n",
        "    out3 = convolution(d, filter_3)\n",
        "\n",
        "    outt1 = pooling(out1, maxpool_window)\n",
        "    outt2 = pooling(out2, maxpool_window)\n",
        "    outt3 = pooling(out3, maxpool_window)\n",
        "\n",
        "    filtered_image = np.zeros((p_output, p_output, 3))\n",
        "    filtered_image[:p_output, :p_output, :1] = outt1.reshape((p_output, p_output, 1))\n",
        "    filtered_image[:p_output, :p_output, 1:2] = outt2.reshape((p_output, p_output, 1))\n",
        "    filtered_image[:p_output, :p_output, 2:3] = outt3.reshape((p_output, p_output, 1))\n",
        "\n",
        "    output[:, :, :, i] = filtered_image\n",
        "\n",
        "\n",
        "  return output"
      ],
      "execution_count": 0,
      "outputs": []
    },
    {
      "cell_type": "code",
      "metadata": {
        "id": "9OjRzRWTqFhD",
        "colab_type": "code",
        "colab": {}
      },
      "source": [
        "a = train_images[1972] / 255.\n",
        "b = 10\n",
        "c = [3, 3]\n",
        "d = [2, 2]\n",
        "my_images = convolution_layer(a, b, c, d)\n",
        "print(\"\\n\",my_images.shape)"
      ],
      "execution_count": 0,
      "outputs": []
    },
    {
      "cell_type": "code",
      "metadata": {
        "id": "aB0vQA3xqJ7X",
        "colab_type": "code",
        "colab": {}
      },
      "source": [
        "def initialization(image, layers):\n",
        "\n",
        "\n",
        "  w = []\n",
        "  b = []\n",
        "\n",
        "  # flatten_image = image.flatten()\n",
        "  weight1 = np.ones((image.shape[1], layers[0]))\n",
        "  w.append(weight1)\n",
        "  for i in range (len(layers)-1):\n",
        "\n",
        "    temp_weight = np.ones((layers[i], layers[i+1]))\n",
        "    w.append(temp_weight)\n",
        "    temp_bias = np.ones((layers[i], 1))\n",
        "    b.append(temp_bias)\n",
        "  temp_bias = np.ones((layers[-1], 1))\n",
        "  b.append(temp_bias)\n",
        "\n",
        "  w = np.array(w)\n",
        "  b = np.array(b)\n",
        "  \n",
        "  return w, b"
      ],
      "execution_count": 0,
      "outputs": []
    },
    {
      "cell_type": "code",
      "metadata": {
        "id": "6HgtXyzSqK7E",
        "colab_type": "code",
        "colab": {}
      },
      "source": [
        "def feedforward(image, weights, bias):\n",
        "  \n",
        "  z = []\n",
        "  a = []\n",
        "  \n",
        "  # flatten_image = image.flatten()\n",
        "  x = np.array(image) # image.reshape(len(flatten_image), 1))\n",
        "  z_temp = np.dot(x, weights[0]).T + bias[0]\n",
        "  z.append(z_temp)\n",
        "  \n",
        "  a_temp = sigmoid(z_temp)\n",
        "  a.append(a_temp)\n",
        "\n",
        "  for i in range(len(weights)-1):\n",
        "    \n",
        "    z_temp = np.dot(a[i].T, weights[i+1]).T + bias[i+1]\n",
        "    z.append(z_temp)\n",
        "    \n",
        "    a_temp = sigmoid(z_temp)\n",
        "    a.append(a_temp)\n",
        "\n",
        "    \n",
        "    # print(a[i].T)\n",
        "    # print(weights[i+1].shape)\n",
        "    # print(z_temp.shape)\n",
        "  \n",
        "  z = np.array(z)\n",
        "  a = np.array(a)\n",
        "\n",
        "  return z, a\n",
        "  "
      ],
      "execution_count": 0,
      "outputs": []
    },
    {
      "cell_type": "code",
      "metadata": {
        "id": "gK548TcPqOzz",
        "colab_type": "code",
        "colab": {}
      },
      "source": [
        "def sigmoid(z):\n",
        "\n",
        "  a = 1 / (1 + np.exp((-1*z)))\n",
        "\n",
        "  return a"
      ],
      "execution_count": 0,
      "outputs": []
    },
    {
      "cell_type": "code",
      "metadata": {
        "id": "kNLATQ26qQxM",
        "colab_type": "code",
        "colab": {}
      },
      "source": [
        "def backpropagation(predicted, actual, z, a, w, b, x):\n",
        "\n",
        "  dz = []\n",
        "  dw = []\n",
        "  db = []\n",
        "  m = predicted.shape[0]\n",
        "  dz_temp = a[-1].T - actual\n",
        "  dz_temp = dz_temp.T\n",
        "  dz.append(dz_temp)\n",
        "  for i in reversed(range(len(a)-1)):\n",
        "    # print(dz_temp)\n",
        "    # print(i)\n",
        "    # print(a[-1])\n",
        "    dw_temp = np.dot(dz_temp, a[i].T) / m\n",
        "    dw.append(dw_temp)\n",
        "    db_temp = np.sum(dz_temp, axis = 1, keepdims=True) / m\n",
        "    db.append(db_temp)\n",
        "    dz_temp = np.dot(w[i+1], dz_temp) * sigmoid_derivate(z[i])\n",
        "    dz.append(dz_temp)\n",
        "    \n",
        "\n",
        "  dw_temp = np.dot(dz_temp, x) / m\n",
        "  dw.append(dw_temp)\n",
        "  db_temp = np.sum(dz_temp, axis = 1, keepdims=True) / m\n",
        "  db.append(db_temp)\n",
        "\n",
        "\n",
        "\n",
        "\n",
        "  return dw, db\n"
      ],
      "execution_count": 0,
      "outputs": []
    },
    {
      "cell_type": "code",
      "metadata": {
        "id": "z55GzBmBqS88",
        "colab_type": "code",
        "colab": {}
      },
      "source": [
        "def sigmoid_derivate(z):\n",
        "  \n",
        "  \n",
        "  a = z*(1-z)\n",
        "  return a"
      ],
      "execution_count": 0,
      "outputs": []
    },
    {
      "cell_type": "code",
      "metadata": {
        "id": "2tF4IC-mqYS9",
        "colab_type": "code",
        "colab": {}
      },
      "source": [
        "xx_xx = np.array([[3, 4, 0, 1, 5], #flatten image 1 (consist of so many filters)\n",
        "              [0, 0, 0, 0, 0], #flatten image 2 (consist of so many filters)\n",
        "              [0, 6, 4, 2, 3],\n",
        "              [1, 7, 4, 1, 8]])\n",
        "y = np.array([[0.1, 0.82],\n",
        "              [0.23, 0],\n",
        "              [0.5, 1],\n",
        "              [0.75, 0]])\n",
        "\n",
        "# w, b = initialization(x, [10, 3, 6, 10, 1])\n",
        "# z, a = feedforward(x, w, b)\n",
        "\n",
        "\n",
        "# x = my_images[:, :, :, :] \n",
        "ww_ww, bb_bb = initialization(x, [10, 3, 6, 10, 2])\n",
        "zz_zz, aa_aa = feedforward(x, w, b)\n",
        "dw, db = backpropagation(aa_aa[-1], y, zz_zz, aa_aa, ww_ww, bb_bb, xx_xx)\n",
        "\n",
        "# print(x.T)\n",
        "# print(z[0].T)\n",
        "\n",
        "\n",
        "print(dw[4].T)\n",
        "# print(db[4].shape)\n",
        "print(w[0])\n",
        "# print(b[0].shape)\n",
        "# print(z[1].T)\n",
        "# print(w[2])\n",
        "# print(a[2])\n",
        "# printa[-1].T)\n",
        "# print(z[1])\n",
        "# print(a[1])"
      ],
      "execution_count": 0,
      "outputs": []
    }
  ]
}